{
  "nbformat": 4,
  "nbformat_minor": 0,
  "metadata": {
    "colab": {
      "provenance": [],
      "authorship_tag": "ABX9TyO3upIOFHCT7iXlpcEYW4AZ",
      "include_colab_link": true
    },
    "kernelspec": {
      "name": "python3",
      "display_name": "Python 3"
    },
    "language_info": {
      "name": "python"
    }
  },
  "cells": [
    {
      "cell_type": "markdown",
      "metadata": {
        "id": "view-in-github",
        "colab_type": "text"
      },
      "source": [
        "<a href=\"https://colab.research.google.com/github/zchoinska/zajecia_python/blob/main/choinska_zuzia_2910.ipynb\" target=\"_parent\"><img src=\"https://colab.research.google.com/assets/colab-badge.svg\" alt=\"Open In Colab\"/></a>"
      ]
    },
    {
      "cell_type": "code",
      "execution_count": 70,
      "metadata": {
        "colab": {
          "base_uri": "https://localhost:8080/"
        },
        "id": "BZDsCkuhEogT",
        "outputId": "3c5cfb64-508e-4842-8123-ce5758c550be"
      },
      "outputs": [
        {
          "name": "stdout",
          "output_type": "stream",
          "text": [
            "Imię Zuza\n"
          ]
        }
      ],
      "source": [
        "name = input(\"Imię \")"
      ]
    },
    {
      "cell_type": "code",
      "source": [
        "surname = input(\"Nazwisko \")"
      ],
      "metadata": {
        "colab": {
          "base_uri": "https://localhost:8080/"
        },
        "id": "2Mw8vlJAHpY5",
        "outputId": "582db63d-9160-4ac9-c9a9-c1e787534323"
      },
      "execution_count": 49,
      "outputs": [
        {
          "name": "stdout",
          "output_type": "stream",
          "text": [
            "Nazwisko Cho\n"
          ]
        }
      ]
    },
    {
      "cell_type": "code",
      "source": [
        "age = input(\"Wiek \")"
      ],
      "metadata": {
        "colab": {
          "base_uri": "https://localhost:8080/"
        },
        "id": "MEIWdsN9HpOr",
        "outputId": "5d845fa8-88da-4520-867c-efe188c850b3"
      },
      "execution_count": 63,
      "outputs": [
        {
          "name": "stdout",
          "output_type": "stream",
          "text": [
            "Wiek mam 26 lat\n"
          ]
        }
      ]
    },
    {
      "cell_type": "code",
      "source": [
        "password = input(\"Hasło \")"
      ],
      "metadata": {
        "colab": {
          "base_uri": "https://localhost:8080/"
        },
        "id": "oT2YC3JIHpFm",
        "outputId": "d00bc42f-343b-4d99-953d-58851f1f2edd"
      },
      "execution_count": 51,
      "outputs": [
        {
          "name": "stdout",
          "output_type": "stream",
          "text": [
            "Hasło haseł\n"
          ]
        }
      ]
    },
    {
      "cell_type": "code",
      "source": [
        "password_re = input(\"Powtórz hasło \")"
      ],
      "metadata": {
        "colab": {
          "base_uri": "https://localhost:8080/"
        },
        "id": "lYg8P4jxHo4Y",
        "outputId": "a2a638b1-649a-4af6-b284-d340f65fa94c"
      },
      "execution_count": 52,
      "outputs": [
        {
          "name": "stdout",
          "output_type": "stream",
          "text": [
            "Powtórz hasło hasło\n"
          ]
        }
      ]
    },
    {
      "cell_type": "code",
      "source": [
        "phone_number = input(\"Numer telefonu \")"
      ],
      "metadata": {
        "colab": {
          "base_uri": "https://localhost:8080/"
        },
        "id": "DsZT_O-1HwBo",
        "outputId": "261c4e26-634c-4198-b1c4-d7b6ccaa93c0"
      },
      "execution_count": 40,
      "outputs": [
        {
          "name": "stdout",
          "output_type": "stream",
          "text": [
            "Numer telefonu 123-456-789\n"
          ]
        }
      ]
    },
    {
      "cell_type": "code",
      "source": [
        "type(name)"
      ],
      "metadata": {
        "colab": {
          "base_uri": "https://localhost:8080/"
        },
        "id": "nbK9owjjXbF8",
        "outputId": "d5483ff1-c80b-47fc-9b31-163947e8055d"
      },
      "execution_count": 66,
      "outputs": [
        {
          "output_type": "execute_result",
          "data": {
            "text/plain": [
              "str"
            ]
          },
          "metadata": {},
          "execution_count": 66
        }
      ]
    },
    {
      "cell_type": "code",
      "source": [
        "if name.isalpha():\n",
        "   print(\"Poprawne\")\n",
        "else:\n",
        "  print(\"Błąd\")"
      ],
      "metadata": {
        "colab": {
          "base_uri": "https://localhost:8080/"
        },
        "id": "fOaZq4Emaq4A",
        "outputId": "045d14b0-81fe-40eb-d858-f1855697e78b"
      },
      "execution_count": 71,
      "outputs": [
        {
          "output_type": "stream",
          "name": "stdout",
          "text": [
            "Poprawne\n"
          ]
        }
      ]
    },
    {
      "cell_type": "code",
      "source": [
        "if surname.isalpha():\n",
        "  print(\"Poprawne\")\n",
        "else:\n",
        "  print(\"Błąd\")"
      ],
      "metadata": {
        "colab": {
          "base_uri": "https://localhost:8080/"
        },
        "id": "183A8gsdbfqW",
        "outputId": "0c880c83-44ec-4fe7-c921-cd0193a4cce4"
      },
      "execution_count": 69,
      "outputs": [
        {
          "output_type": "stream",
          "name": "stdout",
          "text": [
            "Poprawne\n"
          ]
        }
      ]
    },
    {
      "cell_type": "code",
      "source": [
        "if age.isdigit():\n",
        "  print(\"Poprawne\")\n",
        "else:\n",
        "  print(\"Błąd\")"
      ],
      "metadata": {
        "colab": {
          "base_uri": "https://localhost:8080/"
        },
        "id": "V-tu8YnvZDvl",
        "outputId": "285e7bae-6ea0-4420-bff5-ecb674aca194"
      },
      "execution_count": 64,
      "outputs": [
        {
          "output_type": "stream",
          "name": "stdout",
          "text": [
            "Błąd\n"
          ]
        }
      ]
    },
    {
      "cell_type": "code",
      "source": [
        "if password == password_re:\n",
        "  print(\"Hasła są takie same\")\n",
        "else:\n",
        "  print(\"Niepoprawne hasła\")\n"
      ],
      "metadata": {
        "colab": {
          "base_uri": "https://localhost:8080/"
        },
        "id": "iyFm-bx6G7b3",
        "outputId": "64ebb794-cc83-4613-8bca-0f77f8d3e4eb"
      },
      "execution_count": null,
      "outputs": [
        {
          "output_type": "stream",
          "name": "stdout",
          "text": [
            "Niepoprawne hasła\n"
          ]
        }
      ]
    },
    {
      "cell_type": "code",
      "source": [
        "phone_number = phone_number.replace(\" \", \"\").replace(\"-\", \"\")"
      ],
      "metadata": {
        "id": "xjdjLJiIToH4"
      },
      "execution_count": 41,
      "outputs": []
    },
    {
      "cell_type": "code",
      "source": [
        "if phone_number.isdigit() and len(phone_number) == 9:\n",
        "  print(\"Numer poprawny\")\n",
        "else:\n",
        "  print(\"Błędny numer telefonu. Proszę wpisać numer w formacie 123456789 lub 123-456-789.\")"
      ],
      "metadata": {
        "colab": {
          "base_uri": "https://localhost:8080/"
        },
        "id": "0zG6PVAtINAE",
        "outputId": "0700ed0a-de27-4294-ee4e-75550410787e"
      },
      "execution_count": 42,
      "outputs": [
        {
          "output_type": "stream",
          "name": "stdout",
          "text": [
            "Numer poprawny\n"
          ]
        }
      ]
    },
    {
      "cell_type": "code",
      "source": [
        "phone_number.isdigit()"
      ],
      "metadata": {
        "id": "54Jk8C_IJjz0",
        "colab": {
          "base_uri": "https://localhost:8080/"
        },
        "outputId": "4fb86055-172b-4937-b7c6-521fdaf32022"
      },
      "execution_count": 3,
      "outputs": [
        {
          "output_type": "execute_result",
          "data": {
            "text/plain": [
              "True"
            ]
          },
          "metadata": {},
          "execution_count": 3
        }
      ]
    },
    {
      "cell_type": "code",
      "source": [
        "type(phone_number)"
      ],
      "metadata": {
        "colab": {
          "base_uri": "https://localhost:8080/"
        },
        "id": "HN-upBU6NPtq",
        "outputId": "53e07390-5d4e-4063-ff6a-886e2f758ebd"
      },
      "execution_count": 13,
      "outputs": [
        {
          "output_type": "execute_result",
          "data": {
            "text/plain": [
              "str"
            ]
          },
          "metadata": {},
          "execution_count": 13
        }
      ]
    },
    {
      "cell_type": "code",
      "source": [
        "phone_number"
      ],
      "metadata": {
        "colab": {
          "base_uri": "https://localhost:8080/",
          "height": 35
        },
        "id": "kikkdy57K-Y-",
        "outputId": "50331fcd-c3fd-4a3e-f290-6975e955934e"
      },
      "execution_count": 43,
      "outputs": [
        {
          "output_type": "execute_result",
          "data": {
            "text/plain": [
              "'123456789'"
            ],
            "application/vnd.google.colaboratory.intrinsic+json": {
              "type": "string"
            }
          },
          "metadata": {},
          "execution_count": 43
        }
      ]
    },
    {
      "cell_type": "code",
      "source": [
        "name\n",
        "surname\n",
        "age\n",
        "password\n",
        "password_re\n",
        "phone_number"
      ],
      "metadata": {
        "colab": {
          "base_uri": "https://localhost:8080/",
          "height": 35
        },
        "id": "JwSQOy5eVWBW",
        "outputId": "90461b14-e0e0-4196-d7f1-53bef7911832"
      },
      "execution_count": 53,
      "outputs": [
        {
          "output_type": "execute_result",
          "data": {
            "text/plain": [
              "'123456789'"
            ],
            "application/vnd.google.colaboratory.intrinsic+json": {
              "type": "string"
            }
          },
          "metadata": {},
          "execution_count": 53
        }
      ]
    },
    {
      "cell_type": "code",
      "source": [
        "print(name)\n",
        "print(surname)\n",
        "print(age)\n",
        "print(password)\n",
        "print(password_re)\n",
        "print(phone_number)"
      ],
      "metadata": {
        "colab": {
          "base_uri": "https://localhost:8080/"
        },
        "id": "IWoINwuqWY7B",
        "outputId": "24a4147b-a893-4849-8437-d8cdfb25d985"
      },
      "execution_count": 72,
      "outputs": [
        {
          "output_type": "stream",
          "name": "stdout",
          "text": [
            "Zuza\n",
            "Cho\n",
            "mam 26 lat\n",
            "haseł\n",
            "hasło\n",
            "123456789\n"
          ]
        }
      ]
    },
    {
      "cell_type": "code",
      "source": [
        "#ZADANIE2\n",
        "liczba1 = float(input(\"podaj pierwszą liczbę \"))\n",
        "liczba2 = float(input(\"podaj drugą liczbę \"))"
      ],
      "metadata": {
        "colab": {
          "base_uri": "https://localhost:8080/"
        },
        "id": "J9fs2Q1qb_ro",
        "outputId": "67ffde0a-2285-4384-dc1a-9b41c16d82b8"
      },
      "execution_count": 100,
      "outputs": [
        {
          "name": "stdout",
          "output_type": "stream",
          "text": [
            "podaj pierwszą liczbę 45\n",
            "podaj drugą liczbę 23\n"
          ]
        }
      ]
    },
    {
      "cell_type": "code",
      "source": [
        "print(\"Wybierz operację:\")\n",
        "print(\"1. Dodawanie (+)\")\n",
        "print(\"2. Odejmowanie (-)\")\n",
        "print(\"3. Mnożenie (*)\")\n",
        "print(\"4. Dzielenie (/)\")\n",
        "print(\"5. Potęgowanie (**)\")\n",
        "operacja = input(\"Wpisz znak operacji (+, -, *, /, **): \")"
      ],
      "metadata": {
        "colab": {
          "base_uri": "https://localhost:8080/"
        },
        "id": "V2gmlT6YgEI6",
        "outputId": "80897288-67c1-4069-9810-f228511ec416"
      },
      "execution_count": 94,
      "outputs": [
        {
          "name": "stdout",
          "output_type": "stream",
          "text": [
            "Wybierz operację:\n",
            "1. Dodawanie (+)\n",
            "2. Odejmowanie (-)\n",
            "3. Mnożenie (*)\n",
            "4. Dzielenie (/)\n",
            "5. Potęgowanie (**)\n",
            "Wpisz znak operacji (+, -, *, /, **): *\n"
          ]
        }
      ]
    },
    {
      "cell_type": "code",
      "source": [
        "if operacja == \"+\":\n",
        "  wynik = liczba1 + liczba2\n",
        "  print(\"Wynik dodawania:\", wynik)\n",
        "elif operacja == \"-\":\n",
        "  wynik = liczba1 - liczba2\n",
        "  print(\"Wynik odejmowania:\", wynik)\n",
        "elif operacja == \"*\":\n",
        "  wynik = liczba1 * liczba2\n",
        "  print(\"Wynik mnożenia:\", wynik)\n",
        "elif operacja == \"/\":\n",
        "  wynik = liczba1 / liczba2\n",
        "  print(\"Wynik dzielenia:\", wynik)\n",
        "elif operacja == \"**\":\n",
        "  wynik = liczba1 ** liczba2\n",
        "  print(\"Wynik potęgowania:\", wynik)"
      ],
      "metadata": {
        "colab": {
          "base_uri": "https://localhost:8080/"
        },
        "id": "83Sif8B1gJbV",
        "outputId": "9a6c76a4-87a7-4afc-f3ca-6e095c4ae742"
      },
      "execution_count": 101,
      "outputs": [
        {
          "output_type": "stream",
          "name": "stdout",
          "text": [
            "Wynik mnożenia: 1035.0\n"
          ]
        }
      ]
    }
  ]
}